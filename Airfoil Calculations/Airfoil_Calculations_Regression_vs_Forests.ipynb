{
  "nbformat": 4,
  "nbformat_minor": 0,
  "metadata": {
    "colab": {
      "name": "Airfoil Calculations - Regression vs Forests.ipynb",
      "version": "0.3.2",
      "provenance": [],
      "collapsed_sections": []
    },
    "kernelspec": {
      "name": "python3",
      "display_name": "Python 3"
    }
  },
  "cells": [
    {
      "metadata": {
        "id": "0tN6m8iFjHcv",
        "colab_type": "code",
        "colab": {}
      },
      "cell_type": "code",
      "source": [
        "from __future__ import print_function, division\n",
        "from future.utils import iteritems\n",
        "from builtins import range, input"
      ],
      "execution_count": 0,
      "outputs": []
    },
    {
      "metadata": {
        "id": "-Xp7RJCqjUoA",
        "colab_type": "code",
        "colab": {}
      },
      "cell_type": "code",
      "source": [
        "import numpy as np\n",
        "import pandas as pd\n",
        "from google.colab import files"
      ],
      "execution_count": 0,
      "outputs": []
    },
    {
      "metadata": {
        "id": "GNU7ugBTlA2w",
        "colab_type": "code",
        "colab": {
          "resources": {
            "http://localhost:8080/nbextensions/google.colab/files.js": {
              "data": "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",
              "ok": true,
              "headers": [
                [
                  "content-type",
                  "application/javascript"
                ]
              ],
              "status": 200,
              "status_text": ""
            }
          },
          "base_uri": "https://localhost:8080/",
          "height": 72
        },
        "outputId": "b6d53d7a-8976-43bf-ce57-14d599bf7e7d"
      },
      "cell_type": "code",
      "source": [
        "#load the data\n",
        "#upload = files.upload()"
      ],
      "execution_count": 4,
      "outputs": [
        {
          "output_type": "display_data",
          "data": {
            "text/html": [
              "\n",
              "     <input type=\"file\" id=\"files-a1fd8c0c-a8a7-4f08-ab79-d10cde8bf1ce\" name=\"files[]\" multiple disabled />\n",
              "     <output id=\"result-a1fd8c0c-a8a7-4f08-ab79-d10cde8bf1ce\">\n",
              "      Upload widget is only available when the cell has been executed in the\n",
              "      current browser session. Please rerun this cell to enable.\n",
              "      </output>\n",
              "      <script src=\"/nbextensions/google.colab/files.js\"></script> "
            ],
            "text/plain": [
              "<IPython.core.display.HTML object>"
            ]
          },
          "metadata": {
            "tags": []
          }
        },
        {
          "output_type": "stream",
          "text": [
            "Saving airfoil_self_noise.dat to airfoil_self_noise (1).dat\n"
          ],
          "name": "stdout"
        }
      ]
    },
    {
      "metadata": {
        "id": "HnCEE1yulkue",
        "colab_type": "code",
        "colab": {}
      },
      "cell_type": "code",
      "source": [
        "df = pd.read_csv('airfoil_self_noise.dat', sep='\\t', header = None)"
      ],
      "execution_count": 0,
      "outputs": []
    },
    {
      "metadata": {
        "id": "lgnNZJcMmGZ_",
        "colab_type": "code",
        "colab": {
          "base_uri": "https://localhost:8080/",
          "height": 204
        },
        "outputId": "5687f9ea-c908-4cfb-d993-24d2c6e6d92e"
      },
      "cell_type": "code",
      "source": [
        "df.head()"
      ],
      "execution_count": 6,
      "outputs": [
        {
          "output_type": "execute_result",
          "data": {
            "text/html": [
              "<div>\n",
              "<style scoped>\n",
              "    .dataframe tbody tr th:only-of-type {\n",
              "        vertical-align: middle;\n",
              "    }\n",
              "\n",
              "    .dataframe tbody tr th {\n",
              "        vertical-align: top;\n",
              "    }\n",
              "\n",
              "    .dataframe thead th {\n",
              "        text-align: right;\n",
              "    }\n",
              "</style>\n",
              "<table border=\"1\" class=\"dataframe\">\n",
              "  <thead>\n",
              "    <tr style=\"text-align: right;\">\n",
              "      <th></th>\n",
              "      <th>0</th>\n",
              "      <th>1</th>\n",
              "      <th>2</th>\n",
              "      <th>3</th>\n",
              "      <th>4</th>\n",
              "      <th>5</th>\n",
              "    </tr>\n",
              "  </thead>\n",
              "  <tbody>\n",
              "    <tr>\n",
              "      <th>0</th>\n",
              "      <td>800</td>\n",
              "      <td>0.0</td>\n",
              "      <td>0.3048</td>\n",
              "      <td>71.3</td>\n",
              "      <td>0.002663</td>\n",
              "      <td>126.201</td>\n",
              "    </tr>\n",
              "    <tr>\n",
              "      <th>1</th>\n",
              "      <td>1000</td>\n",
              "      <td>0.0</td>\n",
              "      <td>0.3048</td>\n",
              "      <td>71.3</td>\n",
              "      <td>0.002663</td>\n",
              "      <td>125.201</td>\n",
              "    </tr>\n",
              "    <tr>\n",
              "      <th>2</th>\n",
              "      <td>1250</td>\n",
              "      <td>0.0</td>\n",
              "      <td>0.3048</td>\n",
              "      <td>71.3</td>\n",
              "      <td>0.002663</td>\n",
              "      <td>125.951</td>\n",
              "    </tr>\n",
              "    <tr>\n",
              "      <th>3</th>\n",
              "      <td>1600</td>\n",
              "      <td>0.0</td>\n",
              "      <td>0.3048</td>\n",
              "      <td>71.3</td>\n",
              "      <td>0.002663</td>\n",
              "      <td>127.591</td>\n",
              "    </tr>\n",
              "    <tr>\n",
              "      <th>4</th>\n",
              "      <td>2000</td>\n",
              "      <td>0.0</td>\n",
              "      <td>0.3048</td>\n",
              "      <td>71.3</td>\n",
              "      <td>0.002663</td>\n",
              "      <td>127.461</td>\n",
              "    </tr>\n",
              "  </tbody>\n",
              "</table>\n",
              "</div>"
            ],
            "text/plain": [
              "      0    1       2     3         4        5\n",
              "0   800  0.0  0.3048  71.3  0.002663  126.201\n",
              "1  1000  0.0  0.3048  71.3  0.002663  125.201\n",
              "2  1250  0.0  0.3048  71.3  0.002663  125.951\n",
              "3  1600  0.0  0.3048  71.3  0.002663  127.591\n",
              "4  2000  0.0  0.3048  71.3  0.002663  127.461"
            ]
          },
          "metadata": {
            "tags": []
          },
          "execution_count": 6
        }
      ]
    },
    {
      "metadata": {
        "id": "Pv11UoqZmHnn",
        "colab_type": "code",
        "colab": {
          "base_uri": "https://localhost:8080/",
          "height": 204
        },
        "outputId": "a26d47bd-ea26-451c-a7c4-bff7dac4fe88"
      },
      "cell_type": "code",
      "source": [
        "df.info()"
      ],
      "execution_count": 7,
      "outputs": [
        {
          "output_type": "stream",
          "text": [
            "<class 'pandas.core.frame.DataFrame'>\n",
            "RangeIndex: 1503 entries, 0 to 1502\n",
            "Data columns (total 6 columns):\n",
            "0    1503 non-null int64\n",
            "1    1503 non-null float64\n",
            "2    1503 non-null float64\n",
            "3    1503 non-null float64\n",
            "4    1503 non-null float64\n",
            "5    1503 non-null float64\n",
            "dtypes: float64(5), int64(1)\n",
            "memory usage: 70.5 KB\n"
          ],
          "name": "stdout"
        }
      ]
    },
    {
      "metadata": {
        "id": "ZxK99IAjmJg_",
        "colab_type": "code",
        "colab": {}
      },
      "cell_type": "code",
      "source": [
        "data = df[[0,1,2,3,4]].values\n",
        "#columns 0 through 4 are the inputs, while 5 is the output"
      ],
      "execution_count": 0,
      "outputs": []
    },
    {
      "metadata": {
        "id": "Oyh9NBV4mONQ",
        "colab_type": "code",
        "colab": {}
      },
      "cell_type": "code",
      "source": [
        "#now get the output\n",
        "output = df[5].values"
      ],
      "execution_count": 0,
      "outputs": []
    },
    {
      "metadata": {
        "id": "zoHY7d72nAsu",
        "colab_type": "code",
        "colab": {}
      },
      "cell_type": "code",
      "source": [
        "#now split the data into training and test data\n",
        "from sklearn.model_selection import train_test_split\n",
        "\n",
        "#split the data\n",
        "X_train, X_test, y_train, y_test = train_test_split(data, output, test_size=0.33)"
      ],
      "execution_count": 0,
      "outputs": []
    },
    {
      "metadata": {
        "id": "js62-tC_nVe2",
        "colab_type": "code",
        "colab": {}
      },
      "cell_type": "code",
      "source": [
        "#now import linear regression\n",
        "from sklearn.linear_model import LinearRegression\n"
      ],
      "execution_count": 0,
      "outputs": []
    },
    {
      "metadata": {
        "id": "NU-_VQy9niUf",
        "colab_type": "code",
        "colab": {
          "base_uri": "https://localhost:8080/",
          "height": 51
        },
        "outputId": "165f4069-fe5e-4d44-a8c8-c76f0b5ac4b2"
      },
      "cell_type": "code",
      "source": [
        "#then build the model\n",
        "model = LinearRegression()\n",
        "model.fit(X_train, y_train)"
      ],
      "execution_count": 13,
      "outputs": [
        {
          "output_type": "execute_result",
          "data": {
            "text/plain": [
              "LinearRegression(copy_X=True, fit_intercept=True, n_jobs=None,\n",
              "         normalize=False)"
            ]
          },
          "metadata": {
            "tags": []
          },
          "execution_count": 13
        }
      ]
    },
    {
      "metadata": {
        "id": "F1UtFgYjnnVH",
        "colab_type": "code",
        "colab": {
          "base_uri": "https://localhost:8080/",
          "height": 34
        },
        "outputId": "adc8e998-02da-4a11-b38c-c14e4c72d56f"
      },
      "cell_type": "code",
      "source": [
        "#score the model\n",
        "model.score(X_train, y_train)\n",
        "#R^2 value"
      ],
      "execution_count": 15,
      "outputs": [
        {
          "output_type": "execute_result",
          "data": {
            "text/plain": [
              "0.5169106303319736"
            ]
          },
          "metadata": {
            "tags": []
          },
          "execution_count": 15
        }
      ]
    },
    {
      "metadata": {
        "id": "Cgu9YIvCnvZP",
        "colab_type": "code",
        "colab": {
          "base_uri": "https://localhost:8080/",
          "height": 34
        },
        "outputId": "80a65c25-c19b-403f-a780-527b4951c523"
      },
      "cell_type": "code",
      "source": [
        "model.score(X_test, y_test)\n",
        "#R^2 value is not too bad, 1 is perfect fit, 0 is no fit"
      ],
      "execution_count": 16,
      "outputs": [
        {
          "output_type": "execute_result",
          "data": {
            "text/plain": [
              "0.5115942804645079"
            ]
          },
          "metadata": {
            "tags": []
          },
          "execution_count": 16
        }
      ]
    },
    {
      "metadata": {
        "id": "RVFc4Gq5nxn_",
        "colab_type": "code",
        "colab": {}
      },
      "cell_type": "code",
      "source": [
        "#now if we want to predict stuff\n",
        "predictions = model.predict(X_test)"
      ],
      "execution_count": 0,
      "outputs": []
    },
    {
      "metadata": {
        "id": "5G0_6Z_qn6jX",
        "colab_type": "code",
        "colab": {
          "base_uri": "https://localhost:8080/",
          "height": 2125
        },
        "outputId": "965a1172-ba2b-4afd-8e70-9ffde8e04bb8"
      },
      "cell_type": "code",
      "source": [
        "predictions"
      ],
      "execution_count": 18,
      "outputs": [
        {
          "output_type": "execute_result",
          "data": {
            "text/plain": [
              "array([132.41604501, 124.00551679, 124.49451623, 136.84084188,\n",
              "       119.07190363, 119.10710867, 123.39892054, 114.27541061,\n",
              "       122.28796511, 118.87657334, 116.55547287, 115.14985057,\n",
              "       130.23481643, 128.5691303 , 123.75305976, 128.76980283,\n",
              "       124.81381839, 122.54949371, 127.15568127, 121.45341092,\n",
              "       119.87831703, 132.69901476, 124.0466872 , 123.34881783,\n",
              "       136.58768853, 133.43942703, 123.31329292, 132.39523375,\n",
              "       129.09862463, 125.30392076, 124.038154  , 122.47789362,\n",
              "       130.77096998, 127.97682862, 108.25328096, 122.06850234,\n",
              "       130.46713806, 128.90171447, 118.95874764, 123.18276839,\n",
              "       121.80920867, 128.14554591, 126.91678034, 132.10529787,\n",
              "       128.3928262 , 122.14022782, 131.2256677 , 131.56931796,\n",
              "       123.46166001, 120.1709619 , 127.90765653, 124.06466284,\n",
              "       116.54948108, 126.7949048 , 128.55587815, 117.3609376 ,\n",
              "       122.26909963, 117.02322724, 123.24203807, 124.82896151,\n",
              "       130.25653647, 133.27265666, 121.46490795, 124.69642896,\n",
              "       121.53468354, 116.52406807, 126.27519391, 123.64532393,\n",
              "       125.34712926, 123.83864741, 125.3508698 , 124.94749847,\n",
              "       123.51719008, 124.24686175, 127.91021829, 119.7909364 ,\n",
              "       129.22520131, 127.74266177, 124.75857785, 127.99480833,\n",
              "       127.31417105, 130.54348349, 130.97328517, 129.67839591,\n",
              "       121.33009932, 128.96904967, 130.5007863 , 119.47579893,\n",
              "       128.88256005, 134.82331677, 131.08657756, 126.73255769,\n",
              "       120.95425175, 128.84593106, 128.52127866, 123.86548234,\n",
              "       123.69522071, 122.40820998, 119.92996184, 122.22048023,\n",
              "       120.33440188, 119.05152738, 132.92804626, 129.15114005,\n",
              "       122.58142888, 123.55379537, 130.76334482, 119.87881172,\n",
              "       126.64188977, 122.17630059, 117.22489805, 125.65095582,\n",
              "       125.98849749, 122.08825175, 121.28372695, 131.24286578,\n",
              "       114.42377164, 124.51838388, 125.06540364, 116.13387509,\n",
              "       112.83619437, 122.3379491 , 121.94925861, 127.26021661,\n",
              "       123.07497543, 125.01882652, 123.23160994, 127.57811209,\n",
              "       125.49923083, 120.81902898, 124.6646873 , 131.433248  ,\n",
              "       116.95530517, 131.25191346, 119.89868244, 132.4699301 ,\n",
              "       123.75230567, 132.15348841, 127.56073192, 128.44175164,\n",
              "       121.9232124 , 128.92101231, 121.7878369 , 129.86370022,\n",
              "       128.30906602, 129.51781299, 127.52328392, 115.4792518 ,\n",
              "       121.7571774 , 129.48243992, 126.57117637, 132.76634996,\n",
              "       126.21847094, 127.55178996, 127.12542908, 128.36826984,\n",
              "       120.0221927 , 119.88443141, 126.90700432, 126.7901459 ,\n",
              "       118.34292753, 131.02328922, 131.31071818, 124.61532885,\n",
              "       130.07396415, 123.71011731, 120.57452172, 128.73645901,\n",
              "       127.4842377 , 125.45494695, 124.06950145, 126.9600337 ,\n",
              "       125.59463288, 128.21304768, 130.04238896, 118.808576  ,\n",
              "       129.96827129, 120.33767039, 120.82052754, 127.64300676,\n",
              "       130.59355514, 125.84482645, 127.23316427, 120.70722615,\n",
              "       121.21212685, 115.89731244, 125.82742082, 126.2600167 ,\n",
              "       124.68823073, 126.12652087, 122.41916605, 128.81128821,\n",
              "       128.31476615, 127.20257091, 119.55145285, 125.00063117,\n",
              "       116.04620503, 119.50945672, 125.41021248, 128.33917319,\n",
              "       132.90154045, 132.51864303, 124.79485579, 121.76985261,\n",
              "       128.78477936, 127.72771103, 131.78575244, 127.73932596,\n",
              "       123.46863519, 124.0750159 , 119.23419932, 133.13857467,\n",
              "       129.86068111, 119.46673643, 126.48312667, 129.02758537,\n",
              "       125.31245396, 122.98066864, 124.19115185, 113.47302771,\n",
              "       130.94805853, 120.54263818, 120.43961278, 122.05854614,\n",
              "       126.49979572, 125.59859378, 120.45878179, 118.91937841,\n",
              "       131.3235347 , 125.05621246, 128.07844887, 115.3677279 ,\n",
              "       127.41688544, 129.76061328, 118.57768754, 119.84350533,\n",
              "       120.21436211, 120.16371188, 129.10122106, 130.54229785,\n",
              "       131.70665907, 114.78043827, 111.87213585, 132.53762473,\n",
              "       113.49514679, 120.2493869 , 119.00643439, 122.29970326,\n",
              "       127.37533802, 130.14880607, 127.61679329, 127.20934178,\n",
              "       124.63840017, 122.25448553, 126.58688088, 123.271795  ,\n",
              "       134.06723635, 133.39466928, 125.44421778, 119.60162025,\n",
              "       128.52346885, 118.29362623, 123.97228314, 123.88191171,\n",
              "       122.84332154, 122.03450299, 129.26057509, 122.10686664,\n",
              "       129.87912468, 126.95243666, 122.94591295, 121.44318384,\n",
              "       124.27665014, 121.48092491, 123.82235222, 109.18984403,\n",
              "       121.45536837, 126.1356452 , 131.17096881, 116.19442626,\n",
              "       123.97471737, 130.83425832, 126.77121717, 122.54784784,\n",
              "       123.51119829, 116.71828258, 125.32111412, 129.58094173,\n",
              "       129.76362935, 122.57436505, 128.63120784, 123.94837406,\n",
              "       120.27220116, 128.341761  , 127.16779601, 122.95184598,\n",
              "       129.37320782, 125.08429576, 123.15501534, 121.76835406,\n",
              "       134.0970854 , 128.66729186, 131.20636319, 127.32355287,\n",
              "       132.07562467, 123.41380381, 126.86150008, 125.08211486,\n",
              "       125.7443427 , 128.13691945, 124.90785143, 126.85349201,\n",
              "       122.32944511, 120.44956145, 123.26403673, 127.77405455,\n",
              "       124.85429893, 112.59767579, 117.5195314 , 129.51544344,\n",
              "       124.27065835, 114.77236105, 122.92084849, 115.7620927 ,\n",
              "       122.98839752, 122.17671537, 130.58110497, 114.40366937,\n",
              "       126.07672469, 121.46778165, 131.71047004, 123.24818296,\n",
              "       129.39889534, 116.41785785, 119.18379469, 126.37250064,\n",
              "       119.97560674, 128.96648721, 120.63261997, 124.64929261,\n",
              "       120.69702417, 130.75429766, 120.51558288, 124.99637313,\n",
              "       127.03465397, 121.50669671, 121.2413735 , 127.70628119,\n",
              "       125.08525976, 119.87667645, 120.40105311, 129.36403067,\n",
              "       128.80922888, 124.15087718, 125.12739962, 116.71225954,\n",
              "       131.65658495, 117.08673219, 116.64545466, 127.77201767,\n",
              "       122.89638139, 129.2871717 , 126.91057873, 130.757334  ,\n",
              "       123.91702237, 125.19503213, 120.7928304 , 119.82644929,\n",
              "       118.12907655, 126.322084  , 129.36992718, 120.77567385,\n",
              "       121.74961504, 126.07021637, 127.22907975, 116.80694414,\n",
              "       126.62714147, 115.44977341, 116.09233682, 124.96174949,\n",
              "       129.42488455, 130.43919006, 122.24968334, 123.72847567,\n",
              "       129.2829289 , 130.68869514, 128.80819738, 124.38812404,\n",
              "       124.5529939 , 124.04411303, 130.83342421, 116.39497608,\n",
              "       124.53783515, 124.6431013 , 115.2091341 , 121.96279094,\n",
              "       131.90146071, 130.3271175 , 119.41701197, 122.34797514,\n",
              "       123.3124781 , 135.1735275 , 124.70238483, 127.86923845,\n",
              "       131.26914988, 129.32386343, 122.61931896, 133.67681482,\n",
              "       126.70222323, 128.4619876 , 122.93576065, 127.78182222,\n",
              "       125.00835417, 125.21096682, 114.89160479, 132.31582627,\n",
              "       132.80654365, 121.02188958, 129.93362572, 114.11196368,\n",
              "       125.00632181, 130.34040179, 129.56955476, 123.71742629,\n",
              "       118.23331492, 131.82689092, 116.59655126, 129.35089376,\n",
              "       128.18248934, 122.2894346 , 125.92046485, 130.29554232,\n",
              "       123.0895529 , 127.14224415, 128.21667316, 130.44089231,\n",
              "       122.59105542, 124.12509517, 127.40577979, 121.07368089,\n",
              "       123.46580069, 127.00235854, 124.2655233 , 123.92047138,\n",
              "       126.69368168, 127.72527631, 128.93407495, 129.82164491,\n",
              "       125.38341343, 125.95875222, 121.02673494, 127.65113911,\n",
              "       117.06147649, 124.01750499, 124.65944238, 122.24038496,\n",
              "       126.4485559 , 131.01048735, 124.82820742, 125.74058905,\n",
              "       126.40633136, 132.83950433, 126.53855007, 123.18073122,\n",
              "       125.62632148, 128.85868385, 130.18621198, 123.67611201,\n",
              "       129.89508562, 119.36339721, 120.53664639, 130.25703811,\n",
              "       123.67176784, 121.33398178, 132.13346658, 113.90566981,\n",
              "       120.82010501, 117.42640683, 129.75022977, 119.08404527,\n",
              "       123.14002365, 122.98109498, 122.55312945, 128.87448888,\n",
              "       120.01576343, 117.77151517, 125.60876746, 126.52834726,\n",
              "       124.97250253, 135.82822847, 127.15262644, 121.84641623,\n",
              "       121.33295979, 129.07463502, 118.27876693, 119.36165252])"
            ]
          },
          "metadata": {
            "tags": []
          },
          "execution_count": 18
        }
      ]
    },
    {
      "metadata": {
        "id": "Cqbv1obCn7xP",
        "colab_type": "code",
        "colab": {}
      },
      "cell_type": "code",
      "source": [
        "###Now try a classifier instead"
      ],
      "execution_count": 0,
      "outputs": []
    },
    {
      "metadata": {
        "id": "7FmHi9GgoZCB",
        "colab_type": "code",
        "colab": {}
      },
      "cell_type": "code",
      "source": [
        "from sklearn.ensemble import RandomForestRegressor"
      ],
      "execution_count": 0,
      "outputs": []
    },
    {
      "metadata": {
        "id": "zz88D8csof63",
        "colab_type": "code",
        "colab": {
          "base_uri": "https://localhost:8080/",
          "height": 173
        },
        "outputId": "9e500c08-d644-4159-f513-1e2b0d7b04e1"
      },
      "cell_type": "code",
      "source": [
        "forest_model = RandomForestRegressor()\n",
        "forest_model.fit(X_train, y_train)"
      ],
      "execution_count": 21,
      "outputs": [
        {
          "output_type": "stream",
          "text": [
            "/usr/local/lib/python3.6/dist-packages/sklearn/ensemble/forest.py:246: FutureWarning: The default value of n_estimators will change from 10 in version 0.20 to 100 in 0.22.\n",
            "  \"10 in version 0.20 to 100 in 0.22.\", FutureWarning)\n"
          ],
          "name": "stderr"
        },
        {
          "output_type": "execute_result",
          "data": {
            "text/plain": [
              "RandomForestRegressor(bootstrap=True, criterion='mse', max_depth=None,\n",
              "           max_features='auto', max_leaf_nodes=None,\n",
              "           min_impurity_decrease=0.0, min_impurity_split=None,\n",
              "           min_samples_leaf=1, min_samples_split=2,\n",
              "           min_weight_fraction_leaf=0.0, n_estimators=10, n_jobs=None,\n",
              "           oob_score=False, random_state=None, verbose=0, warm_start=False)"
            ]
          },
          "metadata": {
            "tags": []
          },
          "execution_count": 21
        }
      ]
    },
    {
      "metadata": {
        "id": "tz8bg3S1op-v",
        "colab_type": "code",
        "colab": {
          "base_uri": "https://localhost:8080/",
          "height": 34
        },
        "outputId": "02dabfa7-8f34-41bd-a2b4-15953d9ca3ae"
      },
      "cell_type": "code",
      "source": [
        "#evaluate the performance\n",
        "forest_model.score(X_train, y_train)"
      ],
      "execution_count": 22,
      "outputs": [
        {
          "output_type": "execute_result",
          "data": {
            "text/plain": [
              "0.9825738491560452"
            ]
          },
          "metadata": {
            "tags": []
          },
          "execution_count": 22
        }
      ]
    },
    {
      "metadata": {
        "id": "KOCXhrpnovh3",
        "colab_type": "code",
        "colab": {
          "base_uri": "https://localhost:8080/",
          "height": 34
        },
        "outputId": "b4441d76-b2eb-44db-deaf-5bbf19666b3d"
      },
      "cell_type": "code",
      "source": [
        "#and now the test set\n",
        "forest_model.score(X_test, y_test)"
      ],
      "execution_count": 24,
      "outputs": [
        {
          "output_type": "execute_result",
          "data": {
            "text/plain": [
              "0.9229578362110566"
            ]
          },
          "metadata": {
            "tags": []
          },
          "execution_count": 24
        }
      ]
    },
    {
      "metadata": {
        "id": "sIFwrn0xo1S_",
        "colab_type": "code",
        "colab": {}
      },
      "cell_type": "code",
      "source": [
        ""
      ],
      "execution_count": 0,
      "outputs": []
    }
  ]
}